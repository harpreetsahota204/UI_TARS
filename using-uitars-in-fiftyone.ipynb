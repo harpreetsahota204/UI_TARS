{
 "cells": [
  {
   "cell_type": "markdown",
   "id": "7c159c07",
   "metadata": {},
   "source": [
    "# UI-TARS Tutorial with FiftyOne\n",
    "\n",
    "This tutorial demonstrates how to use the UI-TARS vision-language models with FiftyOne as a vision-language-action model designed for GUI agents.\n",
    "\n",
    "## 1. Load a Sample Dataset\n",
    "\n",
    "First, let's load a small UI dataset from the FiftyOne Dataset Zoo."
   ]
  },
  {
   "cell_type": "code",
   "execution_count": 1,
   "id": "51d9d6ba",
   "metadata": {},
   "outputs": [
    {
     "name": "stdout",
     "output_type": "stream",
     "text": [
      "Downloading config file fiftyone.yml from Voxel51/gui-odyssey-test\n"
     ]
    },
    {
     "data": {
      "application/vnd.jupyter.widget-view+json": {
       "model_id": "0ea3b40242c64b94a6b75268b31476e0",
       "version_major": 2,
       "version_minor": 0
      },
      "text/plain": [
       "fiftyone.yml:   0%|          | 0.00/95.0 [00:00<?, ?B/s]"
      ]
     },
     "metadata": {},
     "output_type": "display_data"
    },
    {
     "name": "stdout",
     "output_type": "stream",
     "text": [
      "Loading dataset\n",
      "Importing samples...\n",
      " 100% |███████████████████| 10/10 [3.0ms elapsed, 0s remaining, 3.4K samples/s]      \n",
      "Downloading 10 media files...\n"
     ]
    },
    {
     "name": "stderr",
     "output_type": "stream",
     "text": [
      "100%|██████████| 1/1 [00:00<00:00,  1.02it/s]\n"
     ]
    }
   ],
   "source": [
    "import fiftyone as fo\n",
    "from fiftyone.utils.huggingface import load_from_hub\n",
    "\n",
    "# Load 10 random samples from the dataset\n",
    "dataset = load_from_hub(\n",
    "    \"Voxel51/gui-odyssey-test\",\n",
    "    max_samples=10,\n",
    "    shuffle=True,\n",
    "    overwrite=True\n",
    ")"
   ]
  },
  {
   "cell_type": "code",
   "execution_count": null,
   "id": "9318eb5e",
   "metadata": {},
   "outputs": [],
   "source": [
    "# if you've already downloaded this dataset you can load it via:\n",
    "\n",
    "# import fiftyone as fo\n",
    "# import fiftyone.zoo as foz\n",
    "\n",
    "# dataset = fo.load_dataset(\"Voxel51/ScreenSpot-Pro\")"
   ]
  },
  {
   "cell_type": "markdown",
   "id": "bac89947",
   "metadata": {},
   "source": [
    "Launch the FiftyOne App to visualize the dataset (optional)"
   ]
  },
  {
   "cell_type": "code",
   "execution_count": null,
   "id": "d37ca651",
   "metadata": {},
   "outputs": [],
   "source": [
    "fo.launch_app(dataset)"
   ]
  },
  {
   "cell_type": "markdown",
   "id": "9065f657",
   "metadata": {},
   "source": [
    "## 2. Set Up UI-TARS Integration\n",
    "\n",
    "Register the UI-TARS remote zoo model source and load the model."
   ]
  },
  {
   "cell_type": "code",
   "execution_count": 2,
   "id": "710ffc9b",
   "metadata": {
    "lines_to_next_cell": 2
   },
   "outputs": [
    {
     "name": "stdout",
     "output_type": "stream",
     "text": [
      "Downloading https://github.com/harpreetsahota204/UI_TARS...\n",
      "  128.7Kb [46.8ms elapsed, ? remaining, 2.7Mb/s] \n",
      "Overwriting existing model source '/home/harpreet/fiftyone/__models__/UI-TARS-1.5'\n"
     ]
    }
   ],
   "source": [
    "import fiftyone.zoo as foz\n",
    "\n",
    "# Register the model source\n",
    "foz.register_zoo_model_source(\"https://github.com/harpreetsahota204/UI_TARS\", overwrite=True)"
   ]
  },
  {
   "cell_type": "markdown",
   "id": "f80e0985",
   "metadata": {},
   "source": [
    "# Load the UI-TARS model\n"
   ]
  },
  {
   "cell_type": "code",
   "execution_count": 3,
   "id": "96097cf9",
   "metadata": {},
   "outputs": [
    {
     "data": {
      "application/vnd.jupyter.widget-view+json": {
       "model_id": "f0ae12b03148463d8ff113d8f552855b",
       "version_major": 2,
       "version_minor": 0
      },
      "text/plain": [
       "Fetching 19 files:   0%|          | 0/19 [00:00<?, ?it/s]"
      ]
     },
     "metadata": {},
     "output_type": "display_data"
    },
    {
     "data": {
      "application/vnd.jupyter.widget-view+json": {
       "model_id": "87a66693c9c74645a147fda572f717ce",
       "version_major": 2,
       "version_minor": 0
      },
      "text/plain": [
       "README.md: 0.00B [00:00, ?B/s]"
      ]
     },
     "metadata": {},
     "output_type": "display_data"
    },
    {
     "data": {
      "application/vnd.jupyter.widget-view+json": {
       "model_id": "64b35cd49bff42b0a88a38c01b2ebfa9",
       "version_major": 2,
       "version_minor": 0
      },
      "text/plain": [
       ".gitattributes: 0.00B [00:00, ?B/s]"
      ]
     },
     "metadata": {},
     "output_type": "display_data"
    },
    {
     "data": {
      "application/vnd.jupyter.widget-view+json": {
       "model_id": "f02c0297470e4d688b575092fcb1d38b",
       "version_major": 2,
       "version_minor": 0
      },
      "text/plain": [
       "Loading checkpoint shards:   0%|          | 0/7 [00:00<?, ?it/s]"
      ]
     },
     "metadata": {},
     "output_type": "display_data"
    },
    {
     "name": "stderr",
     "output_type": "stream",
     "text": [
      "You have video processor config saved in `preprocessor.json` file which is deprecated. Video processor configs should be saved in their own `video_preprocessor.json` file. You can rename the file or load and save the processor back which renames it automatically. Loading from `preprocessor.json` will be removed in v5.0.\n"
     ]
    }
   ],
   "source": [
    "model = foz.load_zoo_model(\n",
    "    \"ByteDance-Seed/UI-TARS-1.5-7B\",\n",
    "    # install_requirements=True, #you can pass this to make sure you have all reqs installed\n",
    "    )"
   ]
  },
  {
   "cell_type": "markdown",
   "id": "a16da702",
   "metadata": {},
   "source": [
    "Note that for any of the following operations you can use a Field which currently exists on your dataset, all you need to do is pass the name of that field in `prompt_field` when you call `apply_model`. For example:\n",
    "\n",
    "```python\n",
    "dataset.apply_model(model, prompt_field=\"<field-name>\", label_field=\"<label-field>\")\n",
    "```"
   ]
  },
  {
   "cell_type": "markdown",
   "id": "9e560cee",
   "metadata": {},
   "source": [
    "## 3. Visual Question Answering\n",
    "\n",
    "Ask the model to describe UI screenshots."
   ]
  },
  {
   "cell_type": "code",
   "execution_count": 4,
   "id": "2214375e",
   "metadata": {},
   "outputs": [
    {
     "name": "stdout",
     "output_type": "stream",
     "text": [
      "Raw Model output: The screenshot displays the home screen of an Android device. The background features a gradient of blue and black, giving it a sleek and modern appearance. The status bar at the top shows the time as 3:18, along with icons indicating the Wi-Fi signal, battery level, and other status indicators.\n",
      "\n",
      "The app icons are arranged in a grid layout, with four rows. The first row contains the following apps from left to right: Facebook, Gmail, Instagram, and Messenger. The second row includes Tumblr, X, and Threads. The third row features Chrome, DuckDuckGo, Firefox, and Opera. The fourth row has the Phone app, Messages, Chrome, and the DuckDuckGo app again.\n",
      "\n",
      "At the bottom of the screen, there is a Google search bar with a microphone and camera icon on the right side, allowing for voice and image searches.\n",
      "\n",
      "The user is likely trying to access one of the apps on their home screen. Given the variety of social media and communication apps available, they might be preparing to check their social media feeds, send a message, or browse the internet. The presence of multiple browsers (Chrome, DuckDuckGo, Firefox, and Opera) suggests that the user might be comparing different browsers or looking for a specific type of browsing experience.\n",
      "Raw Model output: The screenshot shows the main interface of the DuckDuckGo browser. The user is likely trying to search for something or enter a URL. The search bar at the top is active, with the placeholder text \"Search or type URL\" and a magnifying glass icon on the left. To the right of the search bar, there are three icons: a flame, a notification badge with the number 1, and a three-dot menu for additional options. Below the search bar, the DuckDuckGo logo is prominently displayed, featuring a white duck with a green bow tie on an orange background. The keyboard is visible at the bottom of the screen, indicating that the user is in the process of typing. The keyboard includes various function keys such as a microphone icon, a settings icon, and a list icon. The user might be preparing to enter a search term or a web address.\n",
      "Raw Model output: The screenshot shows a search interface on a mobile device, likely an Android phone, given the status bar icons at the top. The user is searching for \"sports game events,\" as indicated by the text in the search bar. Below the search bar, there is a suggestion for \"the game sports bar events,\" which might be a related search suggestion. The DuckDuckGo logo is prominently displayed in the center of the screen, indicating that the search is being conducted on this privacy-focused search engine. The on-screen keyboard is visible at the bottom, showing the letters and some additional keys like a microphone icon for voice input, a backspace key, and a return key. The user is likely trying to find information about sports events, possibly looking for upcoming games or activities related to sports.\n",
      "Raw Model output: The user is searching for information related to sports game events. The search results page shows a mix of links, including a prominent advertisement for StubHub, a ticketing website, and a link to FOX Sports for sports scores and games. Below these, there are news articles related to sports events, such as high school sports and local sports events. The user might be looking for tickets to sports events, the latest sports scores, or news about upcoming sports games.\n",
      "Raw Model output: The user is browsing the scores section of the Fox Sports website, specifically on the \"scores\" page. The page displays various sports scores, with a focus on Major League Baseball (MLB) games. The top of the page features the Fox Sports logo, a \"MY FAVS\" button, and a menu icon. Below that, there are tabs for different sports categories such as MLB, UFL, NASCAR, NBA, Soccer, and NHL. The main content area shows the \"TOP SCORES\" section, with options to view scores from \"Tue, Apr 30\" or \"Yesterday.\" There is also a \"MY TEAMS\" section with a \"+ ADD MY TEAMS\" button. The page lists recent MLB games, including the Twins vs. White Sox, with the Twins winning 10-5. The user is likely checking the latest sports scores and updates.\n",
      "Raw Model output: The screenshot displays the scores page of the FOX Sports app, specifically focusing on Major League Baseball (MLB) games. The top of the screen features the FOX Sports logo, a \"MY FAVS\" button with a star icon, and a menu button with three horizontal lines. Below this, there are tabs for different sports categories: TOP, MLB, UFL, NASCAR, NBA, SOCCER, NHL, and G, with the MLB tab currently selected.\n",
      "\n",
      "The main content area shows the scores of several recent MLB games. Each game is presented in a card format with the team logos, scores, and additional information. The first game listed is between the Twins and the White Sox, with the Twins winning 10-5. The Twins have a record of 17-13, while the White Sox have a record of 6-25. The Twins are listed as the favorite with odds of -222, and the game went over 9 runs.\n",
      "\n",
      "The second game is between the Reds and the Padres, with the Padres winning 6-2. The Reds have a record of 16-15, and the Padres have a record of 16-18. The Padres are listed as the favorite with odds of -148, and the game went over 7.5 runs.\n",
      "\n",
      "The third game is between the Yankees and the Orioles, with the Yankees winning 2-0. The Yankees have a record of 20-12, and the Orioles have a record of 19-11. The Yankees are listed as the favorite with odds of +128, and the game went under 8.5 runs.\n",
      "\n",
      "The fourth game is between the Guardians and the Astros, with the Guardians winning 3-2. The Guardians have a record of 20-10, and the Astros have a record of 10-20. The Guardians are listed as the favorite with odds of +10, and the game went over 10 runs.\n",
      "\n",
      "The user is likely checking the scores of recent MLB games, possibly to keep track of their favorite teams' performances or to review the outcomes of games they were interested in. The presence of odds and run totals suggests that the user might also be looking at betting information or analyzing the games for entertainment purposes.\n",
      "Raw Model output: The screenshot displays the home screen of an Android device. The background features a gradient of blue and black, giving it a sleek and modern appearance. The status bar at the top shows the time as 3:20, along with icons indicating the Wi-Fi signal, battery level, and other status indicators.\n",
      "\n",
      "The app icons are arranged in a grid layout. The first row includes Facebook, Gmail, Instagram, and Messenger. The second row features Tumblr, X (formerly Twitter), and Threads. The third row contains Chrome, DuckDuckGo, Firefox, and Opera browsers. At the bottom, there are icons for the phone, messages, and Google search bar.\n",
      "\n",
      "The user is likely trying to access one of the social media apps or a web browser. Given the presence of multiple social media apps like Facebook, Instagram, and X, the user might be preparing to check their social media feeds, send messages, or browse content. The presence of multiple browsers suggests they might also be planning to do some online shopping, research, or other web-related activities.\n",
      "Raw Model output: The screenshot shows the Instagram app interface on a mobile device. The top of the screen displays the time as 3:20, along with various status icons including battery, signal strength, and notifications. The Instagram logo is prominently displayed at the top left corner, with a heart icon and a paper airplane icon (likely for direct messages) to the right.\n",
      "\n",
      "Below the logo, there is a circular placeholder for the user's profile picture, with a blue plus sign indicating the option to add a new story. Underneath this, the text \"Your story\" is displayed.\n",
      "\n",
      "The main part of the screen is filled with a list of posts, each with the text \"Will auto-post when possible\" next to an image. Each post has a three-dot menu icon on the right side, which likely provides additional options such as viewing the post's details, sharing, or deleting the post.\n",
      "\n",
      "At the bottom of the screen, there is a navigation bar with five icons from left to right: a house (Home), a magnifying glass (Search), a plus sign (Create), a video camera (Reels), and a profile picture (Profile). The user is likely browsing through their Instagram feed, possibly looking at their own posts or those of their followers.\n",
      "Raw Model output: The screenshot shows a chat interface on a mobile device. The top of the screen displays the time as 3:20, along with various status icons including a Wi-Fi signal, battery level, and other notifications. Below the status bar, there is a back arrow on the left, a numeric code \"87.2698930\" in the center, and two icons on the right: a camera and a pencil.\n",
      "\n",
      "Underneath the numeric code, there is a search bar with a magnifying glass icon on the left and the word \"Search\" inside the bar. Below the search bar, there is a note section with a placeholder text \"Note...\" and a circular icon with a plus sign, indicating that the user can add a note. Below the note section, there is a profile picture placeholder with the text \"Your note\" underneath it.\n",
      "\n",
      "The main part of the screen is divided into two sections: \"Messages\" and \"Requests.\" The \"Messages\" section is on the left, and the \"Requests\" section is on the right. The \"Messages\" section is currently empty, with a message stating, \"Chats will appear here after you send or receive a message.\" Below this message, there is a blue link that says \"Get started.\" The \"Requests\" section is on the right, but it is not visible in the screenshot.\n",
      "\n",
      "The user is likely trying to set up a new chat or message interface, as indicated by the \"Get started\" link. They might be in the process of creating a new chat or message, adding a note, or searching for something within the app.\n",
      "Raw Model output: The screenshot shows a search interface on a mobile device, likely an Instagram app. At the top, there is a search bar with a back arrow on the left and the word \"Search\" in the center. Below the search bar, there are two sections: \"Recent\" and \"Suggested.\" The \"Recent\" section contains two profile pictures with the names \"Tzhau J...\" and \"王鹤棣D...\". The \"Suggested\" section lists several profiles with verified badges, including \"이동욱 (Official_Instagram)\" with the username \"leedongwook_official,\" \"王鹤棣Dylan_Wang\" with the username \"dylan_wang_1220,\" \"SUNMI\" with the username \"miyayeah,\" \"안유진 AN YUJIN\" with the username \"_yujin_an,\" and \"ROSÉ\" with the username \"roses_are_rosie.\" At the bottom of the screen, there is a keyboard with various keys, including letters, numbers, and function keys like \"GIF,\" \" clipboard,\" and \"microphone.\" The user is likely searching for or browsing through Instagram accounts, possibly looking for new or recommended profiles to follow.\n",
      " 100% |███████████████████| 10/10 [1.1m elapsed, 0s remaining, 0.2 samples/s]     \n"
     ]
    }
   ],
   "source": [
    "model.operation = \"vqa\"\n",
    "model.prompt = \"Describe this screenshot and what the user might be doing in it.\"\n",
    "dataset.apply_model(model, label_field=\"vqa_results\")"
   ]
  },
  {
   "cell_type": "markdown",
   "id": "d28cd8cb",
   "metadata": {},
   "source": [
    "Straightforward \"read the text\" style OCR:"
   ]
  },
  {
   "cell_type": "code",
   "execution_count": null,
   "id": "e9395243",
   "metadata": {},
   "outputs": [
    {
     "name": "stdout",
     "output_type": "stream",
     "text": [
      "Raw Model output: The screenshot displays the home screen of an Android device. At the top of the screen, the status bar shows the time as 3:18, along with several status icons including a Wi-Fi signal, battery level, and other notifications. Below the status bar, there are several app icons arranged in a grid layout.\n",
      "\n",
      "The first row of app icons includes:\n",
      "- Facebook: A blue icon with a white \"f\" logo.\n",
      "- Gmail: A white icon with a red, blue, green, and yellow envelope.\n",
      "- Instagram: A gradient icon with a white camera logo.\n",
      "- Messenger: A white icon with a blue and purple speech bubble.\n",
      "\n",
      "The second row of app icons includes:\n",
      "- Tumblr: A dark icon with a white \"t\" logo.\n",
      "- X: A white icon with a black \"X\" logo.\n",
      "- Threads: A white icon with a black and white \"e\" logo.\n",
      "\n",
      "The third row of app icons includes:\n",
      "- Chrome: A colorful icon with red, green, yellow, and blue sections.\n",
      "- DuckDuckGo: An orange icon with a white duck logo.\n",
      "- Firefox: A purple icon with a fox logo.\n",
      "- Opera: A red and white icon with a \"O\" logo.\n",
      "\n",
      "The fourth row of app icons includes:\n",
      "- Phone: A white icon with a blue phone logo.\n",
      "- Messages: A white icon with a blue speech bubble.\n",
      "- Google Chrome: A colorful icon with red, green, yellow, and blue sections.\n",
      "- DuckDuckGo: An orange icon with a white duck logo.\n",
      "\n",
      "At the bottom of the screen, there is a Google search bar with a microphone and camera icon on the right side.\n",
      "\n",
      "The overall layout is clean and organized, with a dark background and colorful app icons. The status bar at the top provides quick access to important information such as time and notifications.\n",
      "Raw Model output: The screenshot displays the main interface of the DuckDuckGo browser. At the top of the screen, there is a search bar with the placeholder text \"Search or type URL\" and a magnifying glass icon on the left side. To the right of the search bar, there are three icons: a flame icon, a square with the number \"1\" inside it, and a vertical ellipsis (three dots) icon.\n",
      "\n",
      "Below the search bar, the DuckDuckGo logo is prominently displayed, featuring a white duck with a green bow tie inside an orange circle. Underneath the logo, the text \"DuckDuckGo\" is written in black.\n",
      "\n",
      "At the bottom of the screen, there is a virtual keyboard with a QWERTY layout. The keyboard includes various keys such as letters, numbers, and special characters. On the left side of the keyboard, there are additional icons: a blue circle with a hat and glasses, a clipboard, a computer monitor, a gear (settings), and a paint palette. On the right side of the keyboard, there are three dots, a microphone icon with a slash through it, and a backspace key with an \"X\" symbol.\n",
      "\n",
      "The overall layout is clean and minimalistic, with a focus on the search functionality and the DuckDuckGo brand. The interface is designed to be user-friendly, with easily accessible elements for searching, browsing, and managing settings.\n",
      "Raw Model output: The screenshot displays a search interface on a mobile device. At the top of the screen, there is a status bar showing the time as 3:19, along with several status icons including a battery icon, a Wi-Fi icon, and a signal strength icon. Below the status bar, there is a search bar with a magnifying glass icon on the left side and an \"X\" icon on the right side. The search bar contains the text \"sports game events\" in black font.\n",
      "\n",
      "Below the search bar, there is a list of search suggestions. The first suggestion is \"the game sports bar events,\" which is accompanied by a magnifying glass icon on the left side and an arrow icon on the right side. The background of the search interface is white, and the text is primarily in black font.\n",
      "\n",
      "In the center of the screen, there is a logo of DuckDuckGo, which is a circular icon with an orange background and a white duck wearing a green bow tie. Below the logo, the text \"DuckDuckGo\" is displayed in black font.\n",
      "\n",
      "At the bottom of the screen, there is a keyboard with a blue background. The keyboard has several keys, including letters, numbers, and special characters. The keys are arranged in a standard QWERTY layout, with some additional keys such as a microphone icon, a backspace key, and a return key. The text on the keyboard is in black font, and the keys are white with black text.\n",
      "\n",
      "Overall, the screenshot shows a search interface on a mobile device with a search bar, search suggestions, a logo, and a keyboard. The user is likely trying to search for information related to sports game events.\n",
      "Raw Model output: The screenshot displays a Google search results page with the search query \"sports game events\" entered in the search bar at the top. The search bar also shows a small icon of a person with a green hat and a red circle, which is likely a user's profile picture. To the right of the search bar, there are three icons: a black flame icon, a black square with the number \"1\" inside, and a black vertical ellipsis (three dots) for more options.\n",
      "\n",
      "Below the search bar, there are several tabs for different types of search results: \"All,\" \"Images,\" \"Videos,\" \"News,\" \"Maps,\" and \"Shopping.\" The \"All\" tab is currently selected, as indicated by the blue underline. Below these tabs, there are three dropdown menus: \"All regions,\" \"Safe search: moderate,\" and \"Any time,\" allowing the user to refine their search.\n",
      "\n",
      "The first search result is an advertisement for StubHub, with the URL \"stubhub.com\" and the title \"StubHub - Official Site - Buy & sell tickets.\" The ad description mentions taking a night off from nights in, finding great seats for amazing events near you, and offers amenities like price alerts on tickets and 24/7 customer support. There are three buttons below the description: \"Find More Events,\" \"Concert Tickets,\" and \"100% FanProtect.\"\n",
      "\n",
      "The second search result is a link to the FOX Sports website, with the URL \"https://www.foxsports.com\" and the title \"Today's Top Sports Scores and Games (All Sports) | FOX Sports.\" The description invites users to visit FOXSports.com for today's top sports scores and games, explore real-time game scores across MLB, NBA, NFL, Soccer, NHL, and more. There are several category buttons below the description: \"MLB,\" \"NFL,\" \"Soccer,\" \"NBA,\" \"WNBA,\" and \"College B.\"\n",
      "\n",
      "Below the search results, there is a section titled \"News for sports game events,\" which features two news articles. The first article is titled \"Nebraska high school sports notable games and performers\" from Omaha.com, published 4 hours ago. The second article is titled \"Local sports, event groups pay tribute to NC officers killed in Charlotte shooting\" from The Business Journal, published 16 hours ago.\n",
      "\n",
      "At the bottom of the screenshot, there is a link to the Ticketmaster website, with the URL \"https://www.ticketmaster.com\" and the title \"Sports Tickets & Team Schedules | Buy Ticketmaster Verified.\"\n",
      "Raw Model output: The screenshot displays a sports scores page from the Fox Sports website. At the top of the page, there is a navigation bar with the Fox Sports logo on the left, a \"MY FAVS\" button with a star icon in the middle, and a menu icon on the right. Below the navigation bar, there is a horizontal menu with options for different sports leagues: MLB, UFL, NASCAR, NBA, SOCCER, and NHL.\n",
      "\n",
      "The main content of the page is divided into two sections. The first section is titled \"TOP SCORES\" and has two date options: \"Tue, Apr 30\" and \"Yesterday.\" Below this, there is a section titled \"MY TEAMS\" with a \"+ ADD MY TEAMS\" button on the right.\n",
      "\n",
      "The second section displays the scores of Major League Baseball (MLB) games. There are two games listed: the Twins vs. White Sox and the Reds vs. Padres. Each game entry includes the team names, their win-loss records, the final score, and additional information such as the point spread and over/under bets. The Twins won their game against the White Sox with a score of 10-5, and the Reds lost to the Padres with a score of 2-6.\n",
      "\n",
      "At the bottom of the page, there is a \"STANDINGS\" link, which likely provides access to the league standings. The overall layout is clean and organized, making it easy to navigate and find the desired sports scores and information.\n",
      "Raw Model output: The image displays a sports scores interface from the Fox Sports app. At the top of the screen, there is a black navigation bar with the Fox Sports logo on the left, a \"MY FAVS\" button with a star icon in the middle, and a menu button with three horizontal lines on the right. Below the navigation bar, there is a large white text that reads \"SCORES\" in bold, followed by a row of sports categories in gray text: \"TOP,\" \"MLB,\" \"UFL,\" \"NASCAR,\" \"NBA,\" \"SOCCER,\" \"NHL,\" and \"G.\" Below these categories, there are two date options: \"Tue, Apr 30\" and \"Yesterday,\" with \"Yesterday\" currently selected.\n",
      "\n",
      "The main content area of the screen is divided into several sections, each representing a different MLB game. Each section has a white background with rounded corners and contains the following information from top to bottom: the team logos and names, the team records, the final score, and additional betting information.\n",
      "\n",
      "The first game listed is between the Twins and the White Sox. The Twins have a record of 17-13, and the White Sox have a record of 6-25. The final score is Twins 10, White Sox 5. There is also a note indicating that the Twins are -222 favorites and that the total runs scored was over 9.\n",
      "\n",
      "The second game listed is between the Reds and the Padres. The Reds have a record of 16-15, and the Padres have a record of 16-18. The final score is Reds 2, Padres 6. The Padres are -148 favorites, and the total runs scored was over 7.5.\n",
      "\n",
      "The third game listed is between the Yankees and the Orioles. The Yankees have a record of 20-12, and the Orioles have a record of 19-11. The final score is Yankees 2, Orioles 0. The Yankees are +128 underdogs, and the total runs scored was under 8.5.\n",
      "\n",
      "The fourth game listed is between the Guardians and the Astros. The Guardians have a record of 20-10, and the Astros have a record of 10-20. The final score is Guardians 3, Astros 2. The Guardians are -10 favorites, and the total runs scored was over 9.\n",
      "\n",
      "In the top right corner of the screen, there is a \"STANDINGS\" button with an arrow pointing to the right, indicating that the user can click on it to view the standings for each team.\n",
      "Raw Model output: The screenshot displays the home screen of an Android device. At the top of the screen, the status bar shows the time as 3:20, along with several status icons including a Wi-Fi signal, battery level, and other notifications. Below the status bar, there are several rows of app icons arranged in a grid layout.\n",
      "\n",
      "The first row of app icons includes:\n",
      "- Facebook: A blue icon with a white \"f\" logo.\n",
      "- Gmail: A white icon with a red, blue, green, and yellow envelope.\n",
      "- Instagram: A gradient icon with a white camera logo.\n",
      "- Messenger: A white icon with a blue and purple speech bubble.\n",
      "\n",
      "The second row of app icons includes:\n",
      "- Tumblr: A dark icon with a white \"t\" logo.\n",
      "- X: A white icon with a black \"X\" logo.\n",
      "- Threads: A white icon with a black and white bird logo.\n",
      "\n",
      "The third row of app icons includes:\n",
      "- Chrome: A colorful icon with red, green, yellow, and blue sections.\n",
      "- DuckDuckGo: An orange icon with a white duck logo.\n",
      "- Firefox: A purple icon with a fox logo.\n",
      "- Opera: A red and white icon with a \"O\" logo.\n",
      "\n",
      "The fourth row of app icons includes:\n",
      "- Phone: A white icon with a blue phone logo.\n",
      "- Messages: A white icon with a blue speech bubble.\n",
      "- Google Chrome: A colorful icon with red, green, yellow, and blue sections.\n",
      "- DuckDuckGo: An orange icon with a white duck logo.\n",
      "\n",
      "At the bottom of the screen, there is a Google search bar with a microphone and camera icon on the right side.\n",
      "\n",
      "The overall layout is clean and organized, with a dark background and colorful app icons, making it easy to navigate and access frequently used applications.\n",
      "Raw Model output: The screenshot displays the Instagram app interface. At the top, the time is shown as 3:20, and there are several status icons including a Wi-Fi signal, battery level, and other notifications. Below the status bar, the Instagram logo is prominently displayed. To the right of the logo, there are two icons: a heart and a paper airplane, which likely represent the likes and direct messages features, respectively.\n",
      "\n",
      "Beneath the Instagram logo, there is a circular placeholder for a profile picture, which is currently empty. Next to this placeholder, there is a blue circular button with a plus sign, indicating the option to add a new story. Below this, the text \"Your story\" is displayed.\n",
      "\n",
      "The main content area of the screen shows a list of stories, each with a thumbnail image and the text \"Will auto-post when possible.\" There are multiple entries in this list, each with a similar format. To the right of each story entry, there are three vertical dots, which likely represent additional options or actions that can be taken with the story.\n",
      "\n",
      "At the bottom of the screen, there is a navigation bar with five icons from left to right: a house (Home), a magnifying glass (Search), a plus sign (New Post or Reel), a video camera (Reels), and a profile picture (Profile). The navigation bar allows the user to switch between different sections of the Instagram app.\n",
      "\n",
      "Overall, the screenshot shows the Instagram app's main interface, with the user's story section and navigation options clearly visible.\n",
      "  80% |███████████████|---|  8/10 [1.3m elapsed, 18.9s remaining, 0.1 samples/s]  "
     ]
    }
   ],
   "source": [
    "model.prompt = \"Read the text on this screenshot\"\n",
    "dataset.apply_model(model, label_field=\"plain_ocr\")"
   ]
  },
  {
   "cell_type": "markdown",
   "id": "39776eb2",
   "metadata": {},
   "source": [
    "## 4. Grounded Optical Character Recognition (OCR)\n",
    "\n",
    "Extract and locate text in the UI.\n",
    "\n",
    "Note: This will take a VERY LONG time!"
   ]
  },
  {
   "cell_type": "code",
   "execution_count": null,
   "id": "3bb7e474",
   "metadata": {},
   "outputs": [],
   "source": [
    "model.operation = \"ocr\"\n",
    "model.prompt = \"Read the text on any icon, button, or menu item element in this screenshot\"\n",
    "dataset.apply_model(model, label_field=\"ocr_results\")"
   ]
  },
  {
   "cell_type": "markdown",
   "id": "e22e469d",
   "metadata": {},
   "source": [
    "## 5. Keypoint Detection\n",
    "\n",
    "Identify important points in the UI."
   ]
  },
  {
   "cell_type": "code",
   "execution_count": null,
   "id": "33539c1e",
   "metadata": {},
   "outputs": [],
   "source": [
    "model.operation = \"point\"\n",
    "\n",
    "dataset.apply_model(\n",
    "    model, \n",
    "    prompt_field=\"task\", # using a field from the dataset\n",
    "    label_field=\"ui_keypoints\"\n",
    "    ) "
   ]
  },
  {
   "cell_type": "markdown",
   "id": "44e5912a",
   "metadata": {},
   "source": [
    "## 6. Classification\n",
    "\n",
    "Classify the type of UI platform."
   ]
  },
  {
   "cell_type": "code",
   "execution_count": null,
   "id": "0b254fa2",
   "metadata": {},
   "outputs": [],
   "source": [
    "model.operation = \"classify\"\n",
    "model.prompt = \"Classify this UI as coming from one of the following operating systems: android, ios, windows, macos, linux, chromeos, or other\"\n",
    "dataset.apply_model(model, label_field=\"ui_classifications\")"
   ]
  },
  {
   "cell_type": "markdown",
   "id": "6248a902",
   "metadata": {},
   "source": [
    "If your dataset has a field that you want to extract labels from to perform zero-shot classification, you can do so with the following code:"
   ]
  },
  {
   "cell_type": "code",
   "execution_count": 9,
   "id": "38efd90b",
   "metadata": {},
   "outputs": [],
   "source": [
    "domain_name = dataset.distinct(\"category\")"
   ]
  },
  {
   "cell_type": "markdown",
   "id": "c6f034dd",
   "metadata": {},
   "source": [
    "You can then use this as part of your prompt:"
   ]
  },
  {
   "cell_type": "code",
   "execution_count": null,
   "id": "1a23e899",
   "metadata": {},
   "outputs": [],
   "source": [
    "model.prompt = f\"Which of the following websites is this screenshot from? Pick from one or more of the following: {domain_name}\"\n",
    "dataset.apply_model(model, label_field=\"app_classifications\")"
   ]
  },
  {
   "cell_type": "markdown",
   "id": "7acbf743",
   "metadata": {},
   "source": [
    "## 7. Agentic\n",
    "\n",
    "In this dataset, there's an `instruction` field that contains instructions for an agent."
   ]
  },
  {
   "cell_type": "code",
   "execution_count": null,
   "id": "9fc9c157",
   "metadata": {},
   "outputs": [],
   "source": [
    "# If your dataset has a field called \"instruction\" with instructions\n",
    "model.operation = \"agentic\"\n",
    "dataset.apply_model(model, prompt_field=\"task\", label_field=\"agentic_output\")"
   ]
  },
  {
   "cell_type": "markdown",
   "id": "249c68f0",
   "metadata": {},
   "source": [
    "## 8. Set your own system prompts\n",
    "\n",
    "You can set your own system prompts for the model for any of the operations."
   ]
  },
  {
   "cell_type": "code",
   "execution_count": 12,
   "id": "2a50a50b",
   "metadata": {},
   "outputs": [],
   "source": [
    "# first, clear the system prompt\n",
    "model.system_prompt = None\n",
    "\n",
    "#then set your custom system prompt\n",
    "\n",
    "model.system_prompt = \"Your awesome custom system prompt!\""
   ]
  },
  {
   "cell_type": "markdown",
   "id": "001f52c6",
   "metadata": {},
   "source": [
    "## 9. View Results\n",
    "\n",
    "Examine the results for the first sample."
   ]
  },
  {
   "cell_type": "code",
   "execution_count": null,
   "id": "c10cc0b5",
   "metadata": {
    "lines_to_next_cell": 2
   },
   "outputs": [],
   "source": [
    "sample = dataset.first()\n",
    "print(f\"VQA Result: {sample.vqa_results}\")\n",
    "print(f\"Detections: {sample.ui_detections}\")\n",
    "# You can view all results in the FiftyOne App with: fo.launch_app(dataset)"
   ]
  },
  {
   "cell_type": "code",
   "execution_count": null,
   "id": "89bdf076",
   "metadata": {},
   "outputs": [],
   "source": [
    "# Visualize all results in the FiftyOne App\n",
    "session = fo.launch_app(dataset)"
   ]
  },
  {
   "cell_type": "code",
   "execution_count": null,
   "id": "85c6d1cf",
   "metadata": {},
   "outputs": [],
   "source": [
    "dataset.first()"
   ]
  },
  {
   "cell_type": "code",
   "execution_count": 13,
   "id": "93933402",
   "metadata": {},
   "outputs": [],
   "source": [
    "session.freeze()"
   ]
  }
 ],
 "metadata": {
  "jupytext": {
   "cell_metadata_filter": "-all",
   "main_language": "python",
   "notebook_metadata_filter": "-all"
  },
  "kernelspec": {
   "display_name": "fo_develop",
   "language": "python",
   "name": "python3"
  },
  "language_info": {
   "codemirror_mode": {
    "name": "ipython",
    "version": 3
   },
   "file_extension": ".py",
   "mimetype": "text/x-python",
   "name": "python",
   "nbconvert_exporter": "python",
   "pygments_lexer": "ipython3",
   "version": "3.11.8"
  }
 },
 "nbformat": 4,
 "nbformat_minor": 5
}
