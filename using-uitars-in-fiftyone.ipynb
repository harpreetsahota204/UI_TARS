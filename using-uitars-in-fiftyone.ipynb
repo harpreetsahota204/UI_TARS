{
 "cells": [
  {
   "cell_type": "markdown",
   "id": "7c159c07",
   "metadata": {},
   "source": [
    "# UI-TARS Tutorial with FiftyOne\n",
    "\n",
    "This tutorial demonstrates how to use the UI-TARS vision-language models with FiftyOne as a vision-language-action model designed for GUI agents.\n",
    "\n",
    "## 1. Load a Sample Dataset\n",
    "\n",
    "First, let's load a small UI dataset from the FiftyOne Dataset Zoo."
   ]
  },
  {
   "cell_type": "code",
   "execution_count": null,
   "id": "51d9d6ba",
   "metadata": {},
   "outputs": [],
   "source": [
    "import fiftyone as fo\n",
    "from fiftyone.utils.huggingface import load_from_hub\n",
    "\n",
    "# Load 10 random samples from the dataset\n",
    "dataset = load_from_hub(\n",
    "    \"Voxel51/gui-odyssey-test\",\n",
    "    max_samples=10,\n",
    "    shuffle=True,\n",
    "    overwrite=True\n",
    ")"
   ]
  },
  {
   "cell_type": "code",
   "execution_count": null,
   "id": "9318eb5e",
   "metadata": {},
   "outputs": [],
   "source": [
    "# if you've already downloaded this dataset you can load it via:\n",
    "\n",
    "# import fiftyone as fo\n",
    "# import fiftyone.zoo as foz\n",
    "\n",
    "# dataset = fo.load_dataset(\"Voxel51/ScreenSpot-Pro\")"
   ]
  },
  {
   "cell_type": "markdown",
   "id": "bac89947",
   "metadata": {},
   "source": [
    "Launch the FiftyOne App to visualize the dataset (optional)"
   ]
  },
  {
   "cell_type": "code",
   "execution_count": null,
   "id": "d37ca651",
   "metadata": {},
   "outputs": [],
   "source": [
    "fo.launch_app(dataset)"
   ]
  },
  {
   "cell_type": "markdown",
   "id": "9065f657",
   "metadata": {},
   "source": [
    "## 2. Set Up UI-TARS Integration\n",
    "\n",
    "Register the UI-TARS remote zoo model source and load the model."
   ]
  },
  {
   "cell_type": "code",
   "execution_count": null,
   "id": "710ffc9b",
   "metadata": {
    "lines_to_next_cell": 2
   },
   "outputs": [],
   "source": [
    "import fiftyone.zoo as foz\n",
    "\n",
    "# Register the model source\n",
    "foz.register_zoo_model_source(\"https://github.com/harpreetsahota204/UI_TARS\", overwrite=True)"
   ]
  },
  {
   "cell_type": "markdown",
   "id": "f80e0985",
   "metadata": {},
   "source": [
    "# Load the UI-TARS model\n"
   ]
  },
  {
   "cell_type": "code",
   "execution_count": null,
   "id": "96097cf9",
   "metadata": {},
   "outputs": [],
   "source": [
    "model = foz.load_zoo_model(\n",
    "    \"ByteDance-Seed/UI-TARS-1.5-7B\",\n",
    "    # install_requirements=True, #you can pass this to make sure you have all reqs installed\n",
    "    )"
   ]
  },
  {
   "cell_type": "markdown",
   "id": "a16da702",
   "metadata": {},
   "source": [
    "Note that for any of the following operations you can use a Field which currently exists on your dataset, all you need to do is pass the name of that field in `prompt_field` when you call `apply_model`. For example:\n",
    "\n",
    "```python\n",
    "dataset.apply_model(model, prompt_field=\"<field-name>\", label_field=\"<label-field>\")\n",
    "```"
   ]
  },
  {
   "cell_type": "markdown",
   "id": "9e560cee",
   "metadata": {},
   "source": [
    "## 3. Visual Question Answering\n",
    "\n",
    "Ask the model to describe UI screenshots."
   ]
  },
  {
   "cell_type": "code",
   "execution_count": null,
   "id": "2214375e",
   "metadata": {},
   "outputs": [],
   "source": [
    "model.operation = \"vqa\"\n",
    "model.prompt = \"Describe this screenshot and what the user might be doing in it.\"\n",
    "dataset.apply_model(model, label_field=\"vqa_results\")"
   ]
  },
  {
   "cell_type": "markdown",
   "id": "d28cd8cb",
   "metadata": {},
   "source": [
    "Straightforward \"read the text\" style OCR:"
   ]
  },
  {
   "cell_type": "code",
   "execution_count": null,
   "id": "e9395243",
   "metadata": {},
   "outputs": [],
   "source": [
    "model.prompt = \"Read the text on this screenshot\"\n",
    "dataset.apply_model(model, label_field=\"plain_ocr\")"
   ]
  },
  {
   "cell_type": "markdown",
   "id": "39776eb2",
   "metadata": {},
   "source": [
    "## 4. Grounded Optical Character Recognition (OCR)\n",
    "\n",
    "Extract and locate text in the UI.\n",
    "\n",
    "Note: This will take a VERY LONG time!"
   ]
  },
  {
   "cell_type": "code",
   "execution_count": null,
   "id": "3bb7e474",
   "metadata": {},
   "outputs": [],
   "source": [
    "model.operation = \"ocr\"\n",
    "model.prompt = \"Read the words on any icon, button, or menu item element in this screenshot\"\n",
    "dataset.apply_model(model, label_field=\"ocr_results\")"
   ]
  },
  {
   "cell_type": "markdown",
   "id": "e22e469d",
   "metadata": {},
   "source": [
    "## 5. Keypoint Detection\n",
    "\n",
    "Identify important points in the UI."
   ]
  },
  {
   "cell_type": "code",
   "execution_count": null,
   "id": "33539c1e",
   "metadata": {},
   "outputs": [],
   "source": [
    "model.operation = \"point\"\n",
    "\n",
    "dataset.apply_model(\n",
    "    model, \n",
    "    prompt_field=\"task\", # using a field from the dataset\n",
    "    label_field=\"ui_keypoints\"\n",
    "    ) "
   ]
  },
  {
   "cell_type": "markdown",
   "id": "44e5912a",
   "metadata": {},
   "source": [
    "## 6. Classification\n",
    "\n",
    "Classify the type of UI platform."
   ]
  },
  {
   "cell_type": "code",
   "execution_count": null,
   "id": "0b254fa2",
   "metadata": {},
   "outputs": [],
   "source": [
    "model.operation = \"classify\"\n",
    "model.prompt = \"Classify this UI as coming from one of the following operating systems: android, ios, windows, macos, linux, chromeos, or other\"\n",
    "dataset.apply_model(model, label_field=\"ui_classifications\")"
   ]
  },
  {
   "cell_type": "markdown",
   "id": "6248a902",
   "metadata": {},
   "source": [
    "If your dataset has a field that you want to extract labels from to perform zero-shot classification, you can do so with the following code:"
   ]
  },
  {
   "cell_type": "code",
   "execution_count": 9,
   "id": "38efd90b",
   "metadata": {},
   "outputs": [],
   "source": [
    "domain_name = dataset.distinct(\"category\")"
   ]
  },
  {
   "cell_type": "markdown",
   "id": "c6f034dd",
   "metadata": {},
   "source": [
    "You can then use this as part of your prompt:"
   ]
  },
  {
   "cell_type": "code",
   "execution_count": null,
   "id": "1a23e899",
   "metadata": {},
   "outputs": [],
   "source": [
    "model.prompt = f\"Which of the following websites is this screenshot from? Pick from one or more of the following: {domain_name}\"\n",
    "dataset.apply_model(model, label_field=\"app_classifications\")"
   ]
  },
  {
   "cell_type": "markdown",
   "id": "7acbf743",
   "metadata": {},
   "source": [
    "## 7. Agentic\n",
    "\n",
    "In this dataset, there's an `instruction` field that contains instructions for an agent."
   ]
  },
  {
   "cell_type": "code",
   "execution_count": null,
   "id": "9fc9c157",
   "metadata": {},
   "outputs": [],
   "source": [
    "# If your dataset has a field called \"instruction\" with instructions\n",
    "model.operation = \"agentic\"\n",
    "dataset.apply_model(model, prompt_field=\"task\", label_field=\"agentic_output\")"
   ]
  },
  {
   "cell_type": "markdown",
   "id": "249c68f0",
   "metadata": {},
   "source": [
    "## 8. Set your own system prompts\n",
    "\n",
    "You can set your own system prompts for the model for any of the operations."
   ]
  },
  {
   "cell_type": "code",
   "execution_count": 12,
   "id": "2a50a50b",
   "metadata": {},
   "outputs": [],
   "source": [
    "# first, clear the system prompt\n",
    "model.system_prompt = None\n",
    "\n",
    "#then set your custom system prompt\n",
    "\n",
    "model.system_prompt = \"Your awesome custom system prompt!\""
   ]
  },
  {
   "cell_type": "markdown",
   "id": "001f52c6",
   "metadata": {},
   "source": [
    "## 9. View Results\n",
    "\n",
    "Examine the results for the first sample."
   ]
  },
  {
   "cell_type": "code",
   "execution_count": null,
   "id": "c10cc0b5",
   "metadata": {
    "lines_to_next_cell": 2
   },
   "outputs": [],
   "source": [
    "sample = dataset.first()\n",
    "print(f\"VQA Result: {sample.vqa_results}\")\n",
    "print(f\"Detections: {sample.ui_detections}\")\n",
    "# You can view all results in the FiftyOne App with: fo.launch_app(dataset)"
   ]
  },
  {
   "cell_type": "code",
   "execution_count": null,
   "id": "89bdf076",
   "metadata": {},
   "outputs": [],
   "source": [
    "# Visualize all results in the FiftyOne App\n",
    "session = fo.launch_app(dataset)"
   ]
  },
  {
   "cell_type": "code",
   "execution_count": null,
   "id": "85c6d1cf",
   "metadata": {},
   "outputs": [],
   "source": [
    "dataset.first()"
   ]
  },
  {
   "cell_type": "code",
   "execution_count": 13,
   "id": "93933402",
   "metadata": {},
   "outputs": [],
   "source": [
    "session.freeze()"
   ]
  }
 ],
 "metadata": {
  "jupytext": {
   "cell_metadata_filter": "-all",
   "main_language": "python",
   "notebook_metadata_filter": "-all"
  },
  "kernelspec": {
   "display_name": "fo_develop",
   "language": "python",
   "name": "python3"
  },
  "language_info": {
   "codemirror_mode": {
    "name": "ipython",
    "version": 3
   },
   "file_extension": ".py",
   "mimetype": "text/x-python",
   "name": "python",
   "nbconvert_exporter": "python",
   "pygments_lexer": "ipython3",
   "version": "3.11.8"
  }
 },
 "nbformat": 4,
 "nbformat_minor": 5
}
